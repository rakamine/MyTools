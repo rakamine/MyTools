{
 "cells": [
  {
   "cell_type": "code",
   "execution_count": 10,
   "metadata": {},
   "outputs": [
    {
     "name": "stdout",
     "output_type": "stream",
     "text": [
      "DXC_RESULT_MIG_VTA_0000000_20_25_28_ABC_07012020_000000.csv\n",
      "420\n",
      "DXC_RESULT_MIG_VTA_0000000_20_25_28_ISP_07012020_000000.csv\n",
      "343\n",
      "DXC_RESULT_MIG_VTA_0000000_20_25_28_SOC_07012020_000000.csv\n",
      "374\n",
      "DXC_RESULT_MIG_VTA_0000000_20_25_28_SUL_07012020_000000.csv\n",
      "43\n",
      "Total lines = 1180\n"
     ]
    }
   ],
   "source": [
    "#Function that Count lines from file\n",
    "def file_len(fname):\n",
    "    with open(fname) as ff:\n",
    "        for i, l in enumerate(ff):\n",
    "            pass\n",
    "    return i + 1\n",
    "\n",
    "#List all files in current folder and print the total number of lines\n",
    "import os\n",
    "path = '.'\n",
    "files = []\n",
    "count=0\n",
    "for r,d,f in os.walk(path):\n",
    "    for file in f:\n",
    "        # change the extension from csv to txt as needed\n",
    "        if '.csv' in file:\n",
    "            files.append(os.path.join(r, file)[2:])\n",
    "for f in files:\n",
    "    print(f)\n",
    "    #Uncomment  the line bellow if you need to know the total per file\n",
    "    print(file_len(f))\n",
    "    count+=file_len(f)\n",
    "print('Total lines = ' + str(count))"
   ]
  }
 ],
 "metadata": {
  "kernelspec": {
   "display_name": "Python 3",
   "language": "python",
   "name": "python3"
  },
  "language_info": {
   "codemirror_mode": {
    "name": "ipython",
    "version": 3
   },
   "file_extension": ".py",
   "mimetype": "text/x-python",
   "name": "python",
   "nbconvert_exporter": "python",
   "pygments_lexer": "ipython3",
   "version": "3.6.5"
  }
 },
 "nbformat": 4,
 "nbformat_minor": 2
}
